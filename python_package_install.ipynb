{
 "cells": [
  {
   "cell_type": "code",
   "execution_count": null,
   "metadata": {},
   "outputs": [],
   "source": [
    "# First set the proxy\n",
    "\n",
    "import os\n",
    "os.environ['http_proxy'] = 'http://proxy-chain.intel.com:911'\n",
    "os.environ['HTTP_PROXY'] = 'http://proxy-chain.intel.com:911'\n",
    "os.environ['https_proxy'] = 'https://proxy-chain.intel.com:912'\n",
    "os.environ['HTTPS_PROXY'] = 'https://proxy-chain.intel.com:912'\n"
   ]
  },
  {
   "cell_type": "code",
   "execution_count": null,
   "metadata": {},
   "outputs": [],
   "source": [
    "!pip install --user --upgrade pip"
   ]
  },
  {
   "cell_type": "code",
   "execution_count": null,
   "metadata": {},
   "outputs": [],
   "source": [
    "!pip install requests\n",
    "!pip install --user --upgrade requests"
   ]
  },
  {
   "cell_type": "code",
   "execution_count": null,
   "metadata": {},
   "outputs": [],
   "source": [
    "#!pip install --user -r requirements.txt_del\n",
    "!pip install --user -r requirements.txt"
   ]
  },
  {
   "cell_type": "code",
   "execution_count": null,
   "metadata": {},
   "outputs": [],
   "source": [
    "# !pip install the package like below\n",
    "#installing tensorflow\n",
    "!pip install --user tensorflow\n",
    "!pip install --user --upgrade tensorflow\n",
    "!pip install --user --upgrade tensorboard\n"
   ]
  },
  {
   "cell_type": "code",
   "execution_count": null,
   "metadata": {},
   "outputs": [],
   "source": [
    "!pip show tensorflow"
   ]
  },
  {
   "cell_type": "code",
   "execution_count": 29,
   "metadata": {},
   "outputs": [
    {
     "name": "stdout",
     "output_type": "stream",
     "text": [
      "Requirement already up-to-date: tensorboard-plugin-profile in c:\\programdata\\anaconda3\\lib\\site-packages (2.3.0)\n",
      "Requirement already satisfied, skipping upgrade: protobuf>=3.6.0 in c:\\users\\mazharul\\appdata\\roaming\\python\\python37\\site-packages (from tensorboard-plugin-profile) (3.12.2)\n",
      "Requirement already satisfied, skipping upgrade: werkzeug>=0.11.15 in c:\\users\\mazharul\\appdata\\roaming\\python\\python37\\site-packages (from tensorboard-plugin-profile) (1.0.1)\n",
      "Requirement already satisfied, skipping upgrade: six>=1.10.0 in c:\\users\\mazharul\\appdata\\roaming\\python\\python37\\site-packages (from tensorboard-plugin-profile) (1.15.0)\n",
      "Requirement already satisfied, skipping upgrade: setuptools>=41.0.0 in c:\\users\\mazharul\\appdata\\roaming\\python\\python37\\site-packages (from tensorboard-plugin-profile) (47.1.1)\n",
      "Requirement already satisfied, skipping upgrade: gviz-api>=1.9.0 in c:\\programdata\\anaconda3\\lib\\site-packages (from tensorboard-plugin-profile) (1.9.0)\n",
      "Name: tensorboard\n",
      "Version: 2.3.0\n",
      "Summary: TensorBoard lets you watch Tensors Flow\n",
      "Home-page: https://github.com/tensorflow/tensorboard\n",
      "Author: Google Inc.\n",
      "Author-email: packages@tensorflow.org\n",
      "License: Apache 2.0\n",
      "Location: c:\\programdata\\anaconda3\\lib\\site-packages\n",
      "Requires: werkzeug, markdown, wheel, numpy, google-auth-oauthlib, setuptools, tensorboard-plugin-wit, grpcio, protobuf, google-auth, six, requests, absl-py\n",
      "Required-by: tensorflow\n"
     ]
    }
   ],
   "source": [
    "!pip install -U tensorboard-plugin-profile\n",
    "!pip show tensorboard"
   ]
  },
  {
   "cell_type": "code",
   "execution_count": 28,
   "metadata": {
    "scrolled": true
   },
   "outputs": [
    {
     "name": "stdout",
     "output_type": "stream",
     "text": [
      "Requirement already up-to-date: pytest-astropy in c:\\programdata\\anaconda3\\lib\\site-packages (0.8.0)\n",
      "Requirement already up-to-date: astroid in c:\\users\\mazharul\\appdata\\roaming\\python\\python37\\site-packages (2.4.2)\n",
      "Requirement already up-to-date: pylint in c:\\users\\mazharul\\appdata\\roaming\\python\\python37\\site-packages (2.6.0)\n",
      "Requirement already satisfied, skipping upgrade: pytest-astropy-header>=0.1.2 in c:\\programdata\\anaconda3\\lib\\site-packages (from pytest-astropy) (0.1.2)\n",
      "Requirement already satisfied, skipping upgrade: pytest-filter-subpackage>=0.1 in c:\\users\\mazharul\\appdata\\roaming\\python\\python37\\site-packages (from pytest-astropy) (0.1.1)\n",
      "Requirement already satisfied, skipping upgrade: pytest-doctestplus>=0.2.0 in c:\\programdata\\anaconda3\\lib\\site-packages (from pytest-astropy) (0.5.0)\n",
      "Requirement already satisfied, skipping upgrade: pytest-openfiles>=0.3.1 in c:\\programdata\\anaconda3\\lib\\site-packages (from pytest-astropy) (0.4.0)\n",
      "Requirement already satisfied, skipping upgrade: hypothesis>=5.1 in c:\\programdata\\anaconda3\\lib\\site-packages (from pytest-astropy) (5.5.4)\n",
      "Requirement already satisfied, skipping upgrade: pytest-arraydiff>=0.1 in c:\\programdata\\anaconda3\\lib\\site-packages (from pytest-astropy) (0.3)\n",
      "Requirement already satisfied, skipping upgrade: pytest-remotedata>=0.3.1 in c:\\programdata\\anaconda3\\lib\\site-packages (from pytest-astropy) (0.3.2)\n",
      "Requirement already satisfied, skipping upgrade: pytest-cov>=2.0 in c:\\users\\mazharul\\appdata\\roaming\\python\\python37\\site-packages (from pytest-astropy) (2.10.1)\n",
      "Requirement already satisfied, skipping upgrade: pytest>=4.6 in c:\\programdata\\anaconda3\\lib\\site-packages (from pytest-astropy) (5.3.5)\n",
      "Requirement already satisfied, skipping upgrade: typed-ast<1.5,>=1.4.0; implementation_name == \"cpython\" and python_version < \"3.8\" in c:\\programdata\\anaconda3\\lib\\site-packages (from astroid) (1.4.1)\n",
      "Requirement already satisfied, skipping upgrade: wrapt~=1.11 in c:\\programdata\\anaconda3\\lib\\site-packages (from astroid) (1.11.2)\n",
      "Requirement already satisfied, skipping upgrade: six~=1.12 in c:\\users\\mazharul\\appdata\\roaming\\python\\python37\\site-packages (from astroid) (1.15.0)\n",
      "Requirement already satisfied, skipping upgrade: lazy-object-proxy==1.4.* in c:\\programdata\\anaconda3\\lib\\site-packages (from astroid) (1.4.3)\n",
      "Requirement already satisfied, skipping upgrade: toml>=0.7.1 in c:\\users\\mazharul\\appdata\\roaming\\python\\python37\\site-packages (from pylint) (0.10.1)\n",
      "Requirement already satisfied, skipping upgrade: isort<6,>=4.2.5 in c:\\programdata\\anaconda3\\lib\\site-packages (from pylint) (4.3.21)\n",
      "Requirement already satisfied, skipping upgrade: colorama; sys_platform == \"win32\" in c:\\programdata\\anaconda3\\lib\\site-packages (from pylint) (0.4.3)\n",
      "Requirement already satisfied, skipping upgrade: mccabe<0.7,>=0.6 in c:\\programdata\\anaconda3\\lib\\site-packages (from pylint) (0.6.1)\n",
      "Requirement already satisfied, skipping upgrade: psutil in c:\\programdata\\anaconda3\\lib\\site-packages (from pytest-openfiles>=0.3.1->pytest-astropy) (5.6.7)\n",
      "Requirement already satisfied, skipping upgrade: sortedcontainers<3.0.0,>=2.1.0 in c:\\programdata\\anaconda3\\lib\\site-packages (from hypothesis>=5.1->pytest-astropy) (2.1.0)\n",
      "Requirement already satisfied, skipping upgrade: attrs>=19.2.0 in c:\\programdata\\anaconda3\\lib\\site-packages (from hypothesis>=5.1->pytest-astropy) (19.3.0)\n",
      "Requirement already satisfied, skipping upgrade: numpy in c:\\users\\mazharul\\appdata\\roaming\\python\\python37\\site-packages (from pytest-arraydiff>=0.1->pytest-astropy) (1.18.5)\n",
      "Requirement already satisfied, skipping upgrade: coverage>=4.4 in c:\\users\\mazharul\\appdata\\roaming\\python\\python37\\site-packages (from pytest-cov>=2.0->pytest-astropy) (5.2.1)\n",
      "Requirement already satisfied, skipping upgrade: py>=1.5.0 in c:\\programdata\\anaconda3\\lib\\site-packages (from pytest>=4.6->pytest-astropy) (1.8.1)\n",
      "Requirement already satisfied, skipping upgrade: packaging in c:\\programdata\\anaconda3\\lib\\site-packages (from pytest>=4.6->pytest-astropy) (20.1)\n",
      "Requirement already satisfied, skipping upgrade: more-itertools>=4.0.0 in c:\\programdata\\anaconda3\\lib\\site-packages (from pytest>=4.6->pytest-astropy) (8.2.0)\n",
      "Requirement already satisfied, skipping upgrade: pluggy<1.0,>=0.12 in c:\\programdata\\anaconda3\\lib\\site-packages (from pytest>=4.6->pytest-astropy) (0.13.1)\n",
      "Requirement already satisfied, skipping upgrade: wcwidth in c:\\programdata\\anaconda3\\lib\\site-packages (from pytest>=4.6->pytest-astropy) (0.1.8)\n",
      "Requirement already satisfied, skipping upgrade: importlib-metadata>=0.12 in c:\\users\\mazharul\\appdata\\roaming\\python\\python37\\site-packages (from pytest>=4.6->pytest-astropy) (1.6.1)\n",
      "Requirement already satisfied, skipping upgrade: atomicwrites>=1.0 in c:\\programdata\\anaconda3\\lib\\site-packages (from pytest>=4.6->pytest-astropy) (1.3.0)\n",
      "Requirement already satisfied, skipping upgrade: pyparsing>=2.0.2 in c:\\users\\mazharul\\appdata\\roaming\\python\\python37\\site-packages (from packaging->pytest>=4.6->pytest-astropy) (2.4.7)\n",
      "Requirement already satisfied, skipping upgrade: zipp>=0.5 in c:\\users\\mazharul\\appdata\\roaming\\python\\python37\\site-packages (from importlib-metadata>=0.12->pytest>=4.6->pytest-astropy) (3.1.0)\n"
     ]
    }
   ],
   "source": [
    "!pip install --user --upgrade pytest-astropy astroid pylint "
   ]
  },
  {
   "cell_type": "code",
   "execution_count": 30,
   "metadata": {},
   "outputs": [
    {
     "name": "stdout",
     "output_type": "stream",
     "text": [
      "Requirement already satisfied: pandas_datareader in c:\\programdata\\anaconda3\\lib\\site-packages (0.9.0)\n",
      "Requirement already satisfied: lxml in c:\\programdata\\anaconda3\\lib\\site-packages (from pandas_datareader) (4.5.0)\n",
      "Requirement already satisfied: requests>=2.19.0 in c:\\users\\mazharul\\appdata\\roaming\\python\\python37\\site-packages (from pandas_datareader) (2.24.0)\n",
      "Requirement already satisfied: pandas>=0.23 in c:\\users\\mazharul\\appdata\\roaming\\python\\python37\\site-packages (from pandas_datareader) (1.0.4)\n",
      "Requirement already satisfied: idna<3,>=2.5 in c:\\users\\mazharul\\appdata\\roaming\\python\\python37\\site-packages (from requests>=2.19.0->pandas_datareader) (2.6)\n",
      "Requirement already satisfied: certifi>=2017.4.17 in c:\\users\\mazharul\\appdata\\roaming\\python\\python37\\site-packages (from requests>=2.19.0->pandas_datareader) (2020.4.5.2)\n",
      "Requirement already satisfied: urllib3!=1.25.0,!=1.25.1,<1.26,>=1.21.1 in c:\\users\\mazharul\\appdata\\roaming\\python\\python37\\site-packages (from requests>=2.19.0->pandas_datareader) (1.25.9)\n",
      "Requirement already satisfied: chardet<4,>=3.0.2 in c:\\programdata\\anaconda3\\lib\\site-packages (from requests>=2.19.0->pandas_datareader) (3.0.4)\n",
      "Requirement already satisfied: python-dateutil>=2.6.1 in c:\\programdata\\anaconda3\\lib\\site-packages (from pandas>=0.23->pandas_datareader) (2.8.1)\n",
      "Requirement already satisfied: numpy>=1.13.3 in c:\\users\\mazharul\\appdata\\roaming\\python\\python37\\site-packages (from pandas>=0.23->pandas_datareader) (1.18.5)\n",
      "Requirement already satisfied: pytz>=2017.2 in c:\\users\\mazharul\\appdata\\roaming\\python\\python37\\site-packages (from pandas>=0.23->pandas_datareader) (2020.1)\n",
      "Requirement already satisfied: six>=1.5 in c:\\users\\mazharul\\appdata\\roaming\\python\\python37\\site-packages (from python-dateutil>=2.6.1->pandas>=0.23->pandas_datareader) (1.15.0)\n"
     ]
    }
   ],
   "source": [
    "!pip install pandas_datareader"
   ]
  },
  {
   "cell_type": "code",
   "execution_count": 35,
   "metadata": {},
   "outputs": [
    {
     "name": "stdout",
     "output_type": "stream",
     "text": [
      "Processing c:\\users\\mazharul\\appdata\\local\\pip\\cache\\wheels\\45\\6c\\46\\a1865e7ba706b3817f5d1b2ff7ce8996aabdd0d03d47ba0266\\nltk-3.5-py3-none-any.whl\n",
      "Requirement already satisfied, skipping upgrade: click in c:\\programdata\\anaconda3\\lib\\site-packages (from nltk) (7.0)\n",
      "Requirement already satisfied, skipping upgrade: joblib in c:\\users\\mazharul\\appdata\\roaming\\python\\python37\\site-packages (from nltk) (0.15.1)\n",
      "Requirement already satisfied, skipping upgrade: regex in c:\\programdata\\anaconda3\\lib\\site-packages (from nltk) (2020.7.14)\n",
      "Requirement already satisfied, skipping upgrade: tqdm in c:\\programdata\\anaconda3\\lib\\site-packages (from nltk) (4.42.1)\n",
      "Installing collected packages: nltk\n",
      "Successfully installed nltk-3.5\n"
     ]
    },
    {
     "name": "stderr",
     "output_type": "stream",
     "text": [
      "  WARNING: The script nltk.exe is installed in 'C:\\Users\\mazharul\\AppData\\Roaming\\Python\\Python37\\Scripts' which is not on PATH.\n",
      "  Consider adding this directory to PATH or, if you prefer to suppress this warning, use --no-warn-script-location.\n"
     ]
    }
   ],
   "source": [
    "!pip install --user --upgrade nltk "
   ]
  },
  {
   "cell_type": "code",
   "execution_count": 36,
   "metadata": {},
   "outputs": [
    {
     "name": "stdout",
     "output_type": "stream",
     "text": [
      "Collecting numpy\n",
      "  Downloading numpy-1.19.1-cp37-cp37m-win_amd64.whl (12.9 MB)\n",
      "Collecting scipy\n",
      "  Downloading scipy-1.5.2-cp37-cp37m-win_amd64.whl (31.2 MB)\n",
      "Collecting matplotlib\n",
      "  Downloading matplotlib-3.3.1-1-cp37-cp37m-win_amd64.whl (8.9 MB)\n",
      "Collecting ipython\n",
      "  Downloading ipython-7.18.1-py3-none-any.whl (786 kB)\n",
      "Requirement already up-to-date: jupyter in c:\\programdata\\anaconda3\\lib\\site-packages (1.0.0)\n",
      "Collecting pandas\n",
      "  Downloading pandas-1.1.2-cp37-cp37m-win_amd64.whl (9.4 MB)\n",
      "Collecting sympy\n",
      "  Downloading sympy-1.6.2-py3-none-any.whl (5.8 MB)\n",
      "Requirement already up-to-date: nose in c:\\programdata\\anaconda3\\lib\\site-packages (1.3.7)\n",
      "Requirement already satisfied, skipping upgrade: python-dateutil>=2.1 in c:\\programdata\\anaconda3\\lib\\site-packages (from matplotlib) (2.8.1)\n",
      "Requirement already satisfied, skipping upgrade: pyparsing!=2.0.4,!=2.1.2,!=2.1.6,>=2.0.3 in c:\\users\\mazharul\\appdata\\roaming\\python\\python37\\site-packages (from matplotlib) (2.4.7)\n",
      "Requirement already satisfied, skipping upgrade: pillow>=6.2.0 in c:\\users\\mazharul\\appdata\\roaming\\python\\python37\\site-packages (from matplotlib) (7.1.2)\n",
      "Requirement already satisfied, skipping upgrade: cycler>=0.10 in c:\\programdata\\anaconda3\\lib\\site-packages (from matplotlib) (0.10.0)\n",
      "Requirement already satisfied, skipping upgrade: kiwisolver>=1.0.1 in c:\\users\\mazharul\\appdata\\roaming\\python\\python37\\site-packages (from matplotlib) (1.2.0)\n",
      "Collecting certifi>=2020.06.20\n",
      "  Downloading certifi-2020.6.20-py2.py3-none-any.whl (156 kB)\n",
      "Requirement already satisfied, skipping upgrade: backcall in c:\\programdata\\anaconda3\\lib\\site-packages (from ipython) (0.1.0)\n",
      "Requirement already satisfied, skipping upgrade: pygments in c:\\programdata\\anaconda3\\lib\\site-packages (from ipython) (2.5.2)\n",
      "Requirement already satisfied, skipping upgrade: jedi>=0.10 in c:\\programdata\\anaconda3\\lib\\site-packages (from ipython) (0.14.1)\n",
      "Requirement already satisfied, skipping upgrade: setuptools>=18.5 in c:\\users\\mazharul\\appdata\\roaming\\python\\python37\\site-packages (from ipython) (47.1.1)\n",
      "Requirement already satisfied, skipping upgrade: decorator in c:\\programdata\\anaconda3\\lib\\site-packages (from ipython) (4.4.1)\n",
      "Requirement already satisfied, skipping upgrade: colorama; sys_platform == \"win32\" in c:\\programdata\\anaconda3\\lib\\site-packages (from ipython) (0.4.3)\n",
      "Requirement already satisfied, skipping upgrade: prompt-toolkit!=3.0.0,!=3.0.1,<3.1.0,>=2.0.0 in c:\\programdata\\anaconda3\\lib\\site-packages (from ipython) (3.0.3)\n",
      "Requirement already satisfied, skipping upgrade: traitlets>=4.2 in c:\\programdata\\anaconda3\\lib\\site-packages (from ipython) (4.3.3)\n",
      "Requirement already satisfied, skipping upgrade: pickleshare in c:\\programdata\\anaconda3\\lib\\site-packages (from ipython) (0.7.5)\n",
      "Requirement already satisfied, skipping upgrade: ipykernel in c:\\programdata\\anaconda3\\lib\\site-packages (from jupyter) (5.1.4)\n",
      "Requirement already satisfied, skipping upgrade: qtconsole in c:\\programdata\\anaconda3\\lib\\site-packages (from jupyter) (4.6.0)\n",
      "Requirement already satisfied, skipping upgrade: nbconvert in c:\\programdata\\anaconda3\\lib\\site-packages (from jupyter) (5.6.1)\n",
      "Requirement already satisfied, skipping upgrade: notebook in c:\\programdata\\anaconda3\\lib\\site-packages (from jupyter) (6.0.3)\n",
      "Requirement already satisfied, skipping upgrade: jupyter-console in c:\\programdata\\anaconda3\\lib\\site-packages (from jupyter) (6.1.0)\n",
      "Requirement already satisfied, skipping upgrade: ipywidgets in c:\\programdata\\anaconda3\\lib\\site-packages (from jupyter) (7.5.1)\n",
      "Requirement already satisfied, skipping upgrade: pytz>=2017.2 in c:\\users\\mazharul\\appdata\\roaming\\python\\python37\\site-packages (from pandas) (2020.1)\n",
      "Requirement already satisfied, skipping upgrade: mpmath>=0.19 in c:\\programdata\\anaconda3\\lib\\site-packages (from sympy) (1.1.0)\n",
      "Requirement already satisfied, skipping upgrade: six>=1.5 in c:\\users\\mazharul\\appdata\\roaming\\python\\python37\\site-packages (from python-dateutil>=2.1->matplotlib) (1.15.0)\n",
      "Requirement already satisfied, skipping upgrade: parso>=0.5.0 in c:\\programdata\\anaconda3\\lib\\site-packages (from jedi>=0.10->ipython) (0.5.2)\n",
      "Requirement already satisfied, skipping upgrade: wcwidth in c:\\programdata\\anaconda3\\lib\\site-packages (from prompt-toolkit!=3.0.0,!=3.0.1,<3.1.0,>=2.0.0->ipython) (0.1.8)\n",
      "Requirement already satisfied, skipping upgrade: ipython-genutils in c:\\programdata\\anaconda3\\lib\\site-packages (from traitlets>=4.2->ipython) (0.2.0)\n",
      "Requirement already satisfied, skipping upgrade: tornado>=4.2 in c:\\programdata\\anaconda3\\lib\\site-packages (from ipykernel->jupyter) (6.0.3)\n",
      "Requirement already satisfied, skipping upgrade: jupyter-client in c:\\programdata\\anaconda3\\lib\\site-packages (from ipykernel->jupyter) (5.3.4)\n",
      "Requirement already satisfied, skipping upgrade: jupyter-core in c:\\programdata\\anaconda3\\lib\\site-packages (from qtconsole->jupyter) (4.6.1)\n",
      "Requirement already satisfied, skipping upgrade: bleach in c:\\programdata\\anaconda3\\lib\\site-packages (from nbconvert->jupyter) (3.1.0)\n",
      "Requirement already satisfied, skipping upgrade: mistune<2,>=0.8.1 in c:\\programdata\\anaconda3\\lib\\site-packages (from nbconvert->jupyter) (0.8.4)\n",
      "Requirement already satisfied, skipping upgrade: entrypoints>=0.2.2 in c:\\programdata\\anaconda3\\lib\\site-packages (from nbconvert->jupyter) (0.3)\n",
      "Requirement already satisfied, skipping upgrade: testpath in c:\\programdata\\anaconda3\\lib\\site-packages (from nbconvert->jupyter) (0.4.4)\n",
      "Requirement already satisfied, skipping upgrade: nbformat>=4.4 in c:\\programdata\\anaconda3\\lib\\site-packages (from nbconvert->jupyter) (5.0.4)\n",
      "Requirement already satisfied, skipping upgrade: jinja2>=2.4 in c:\\programdata\\anaconda3\\lib\\site-packages (from nbconvert->jupyter) (2.11.1)\n",
      "Requirement already satisfied, skipping upgrade: defusedxml in c:\\programdata\\anaconda3\\lib\\site-packages (from nbconvert->jupyter) (0.6.0)\n",
      "Requirement already satisfied, skipping upgrade: pandocfilters>=1.4.1 in c:\\programdata\\anaconda3\\lib\\site-packages (from nbconvert->jupyter) (1.4.2)\n",
      "Requirement already satisfied, skipping upgrade: prometheus-client in c:\\programdata\\anaconda3\\lib\\site-packages (from notebook->jupyter) (0.7.1)\n",
      "Requirement already satisfied, skipping upgrade: pyzmq>=17 in c:\\programdata\\anaconda3\\lib\\site-packages (from notebook->jupyter) (18.1.1)\n",
      "Requirement already satisfied, skipping upgrade: terminado>=0.8.1 in c:\\programdata\\anaconda3\\lib\\site-packages (from notebook->jupyter) (0.8.3)\n",
      "Requirement already satisfied, skipping upgrade: Send2Trash in c:\\programdata\\anaconda3\\lib\\site-packages (from notebook->jupyter) (1.5.0)\n",
      "Requirement already satisfied, skipping upgrade: widgetsnbextension~=3.5.0 in c:\\programdata\\anaconda3\\lib\\site-packages (from ipywidgets->jupyter) (3.5.1)\n",
      "Requirement already satisfied, skipping upgrade: pywin32>=1.0; sys_platform == \"win32\" in c:\\programdata\\anaconda3\\lib\\site-packages (from jupyter-client->ipykernel->jupyter) (227)\n",
      "Requirement already satisfied, skipping upgrade: webencodings in c:\\programdata\\anaconda3\\lib\\site-packages (from bleach->nbconvert->jupyter) (0.5.1)\n",
      "Requirement already satisfied, skipping upgrade: jsonschema!=2.5.0,>=2.4 in c:\\programdata\\anaconda3\\lib\\site-packages (from nbformat>=4.4->nbconvert->jupyter) (3.2.0)\n",
      "Requirement already satisfied, skipping upgrade: MarkupSafe>=0.23 in c:\\programdata\\anaconda3\\lib\\site-packages (from jinja2>=2.4->nbconvert->jupyter) (1.1.1)\n",
      "Requirement already satisfied, skipping upgrade: importlib-metadata; python_version < \"3.8\" in c:\\users\\mazharul\\appdata\\roaming\\python\\python37\\site-packages (from jsonschema!=2.5.0,>=2.4->nbformat>=4.4->nbconvert->jupyter) (1.6.1)\n",
      "Requirement already satisfied, skipping upgrade: attrs>=17.4.0 in c:\\programdata\\anaconda3\\lib\\site-packages (from jsonschema!=2.5.0,>=2.4->nbformat>=4.4->nbconvert->jupyter) (19.3.0)\n",
      "Requirement already satisfied, skipping upgrade: pyrsistent>=0.14.0 in c:\\programdata\\anaconda3\\lib\\site-packages (from jsonschema!=2.5.0,>=2.4->nbformat>=4.4->nbconvert->jupyter) (0.15.7)\n",
      "Requirement already satisfied, skipping upgrade: zipp>=0.5 in c:\\users\\mazharul\\appdata\\roaming\\python\\python37\\site-packages (from importlib-metadata; python_version < \"3.8\"->jsonschema!=2.5.0,>=2.4->nbformat>=4.4->nbconvert->jupyter) (3.1.0)\n",
      "Installing collected packages: numpy, scipy, certifi, matplotlib, ipython, pandas, sympy\n",
      "  Attempting uninstall: numpy\n",
      "    Found existing installation: numpy 1.18.5\n",
      "    Uninstalling numpy-1.18.5:\n",
      "      Successfully uninstalled numpy-1.18.5\n",
      "  Attempting uninstall: certifi\n",
      "    Found existing installation: certifi 2020.4.5.2\n",
      "    Uninstalling certifi-2020.4.5.2:\n",
      "      Successfully uninstalled certifi-2020.4.5.2\n",
      "  Attempting uninstall: matplotlib\n",
      "    Found existing installation: matplotlib 3.2.1\n",
      "    Uninstalling matplotlib-3.2.1:\n",
      "      Successfully uninstalled matplotlib-3.2.1\n",
      "  Attempting uninstall: pandas\n",
      "    Found existing installation: pandas 1.0.4\n",
      "    Uninstalling pandas-1.0.4:\n",
      "      Successfully uninstalled pandas-1.0.4\n",
      "Successfully installed certifi-2020.6.20 ipython-7.18.1 matplotlib-3.3.1 numpy-1.19.1 pandas-1.1.2 scipy-1.5.2 sympy-1.6.2\n"
     ]
    },
    {
     "name": "stderr",
     "output_type": "stream",
     "text": [
      "  WARNING: The script f2py.exe is installed in 'C:\\Users\\mazharul\\AppData\\Roaming\\Python\\Python37\\Scripts' which is not on PATH.\n",
      "  Consider adding this directory to PATH or, if you prefer to suppress this warning, use --no-warn-script-location.\n",
      "  WARNING: The scripts iptest.exe, iptest3.exe, ipython.exe and ipython3.exe are installed in 'C:\\Users\\mazharul\\AppData\\Roaming\\Python\\Python37\\Scripts' which is not on PATH.\n",
      "  Consider adding this directory to PATH or, if you prefer to suppress this warning, use --no-warn-script-location.\n",
      "  WARNING: The script isympy.exe is installed in 'C:\\Users\\mazharul\\AppData\\Roaming\\Python\\Python37\\Scripts' which is not on PATH.\n",
      "  Consider adding this directory to PATH or, if you prefer to suppress this warning, use --no-warn-script-location.\n",
      "ERROR: After October 2020 you may experience errors when installing or updating packages. This is because pip will change the way that it resolves dependency conflicts.\n",
      "\n",
      "We recommend you use --use-feature=2020-resolver to test your packages with the new resolver before it becomes the default.\n",
      "\n",
      "tensorflow 2.3.0 requires numpy<1.19.0,>=1.16.0, but you'll have numpy 1.19.1 which is incompatible.\n",
      "tensorflow 2.3.0 requires scipy==1.4.1, but you'll have scipy 1.5.2 which is incompatible.\n"
     ]
    }
   ],
   "source": [
    "!pip install --user --upgrade matplotlib ipython jupyter pandas sympy nose"
   ]
  },
  {
   "cell_type": "code",
   "execution_count": 41,
   "metadata": {},
   "outputs": [
    {
     "name": "stdout",
     "output_type": "stream",
     "text": [
      "Requirement already satisfied: numpy==1.18.5 in c:\\users\\mazharul\\appdata\\roaming\\python\\python37\\site-packages (1.18.5)\n",
      "Requirement already satisfied: scipy==1.4.1 in c:\\users\\mazharul\\appdata\\roaming\\python\\python37\\site-packages (1.4.1)\n",
      "Requirement already satisfied: numpy>=1.13.3 in c:\\users\\mazharul\\appdata\\roaming\\python\\python37\\site-packages (from scipy==1.4.1) (1.18.5)\n"
     ]
    }
   ],
   "source": [
    "# for tensorflow 2.3.0 -> following is necessary\n",
    "!pip install --user numpy==1.18.5 \n",
    "!pip install --user scipy==1.4.1"
   ]
  },
  {
   "cell_type": "code",
   "execution_count": 43,
   "metadata": {},
   "outputs": [
    {
     "name": "stdout",
     "output_type": "stream",
     "text": [
      "Requirement already up-to-date: keras in c:\\programdata\\anaconda3\\lib\\site-packages (2.4.3)\n",
      "Requirement already satisfied, skipping upgrade: numpy>=1.9.1 in c:\\users\\mazharul\\appdata\\roaming\\python\\python37\\site-packages (from keras) (1.18.5)\n",
      "Requirement already satisfied, skipping upgrade: pyyaml in c:\\programdata\\anaconda3\\lib\\site-packages (from keras) (5.3)\n",
      "Requirement already satisfied, skipping upgrade: scipy>=0.14 in c:\\users\\mazharul\\appdata\\roaming\\python\\python37\\site-packages (from keras) (1.4.1)\n",
      "Requirement already satisfied, skipping upgrade: h5py in c:\\programdata\\anaconda3\\lib\\site-packages (from keras) (2.10.0)\n",
      "Requirement already satisfied, skipping upgrade: six in c:\\users\\mazharul\\appdata\\roaming\\python\\python37\\site-packages (from h5py->keras) (1.15.0)\n"
     ]
    }
   ],
   "source": [
    "!pip install --user --upgrade keras"
   ]
  },
  {
   "cell_type": "code",
   "execution_count": 45,
   "metadata": {},
   "outputs": [
    {
     "name": "stdout",
     "output_type": "stream",
     "text": [
      "Collecting pillow\n",
      "  Downloading Pillow-7.2.0-cp37-cp37m-win_amd64.whl (2.1 MB)\n",
      "Installing collected packages: pillow\n",
      "  Attempting uninstall: pillow\n",
      "    Found existing installation: Pillow 7.1.2\n",
      "    Uninstalling Pillow-7.1.2:\n",
      "      Successfully uninstalled Pillow-7.1.2\n",
      "Successfully installed pillow-7.2.0\n"
     ]
    }
   ],
   "source": [
    "!pip install --user --upgrade pillow"
   ]
  },
  {
   "cell_type": "code",
   "execution_count": 50,
   "metadata": {},
   "outputs": [
    {
     "name": "stdout",
     "output_type": "stream",
     "text": [
      "Name: tensorflow\n",
      "Version: 2.2.0\n",
      "Summary: TensorFlow is an open source machine learning framework for everyone.\n",
      "Home-page: https://www.tensorflow.org/\n",
      "Author: Google Inc.\n",
      "Author-email: packages@tensorflow.org\n",
      "License: Apache 2.0\n",
      "Location: c:\\users\\mazharul\\appdata\\roaming\\python\\python37\\site-packages\n",
      "Requires: h5py, tensorflow-estimator, termcolor, numpy, scipy, grpcio, astunparse, opt-einsum, protobuf, wrapt, gast, wheel, six, google-pasta, tensorboard, absl-py, keras-preprocessing\n",
      "Required-by: Keras\n",
      "Name: tensorboard\n",
      "Version: 2.2.2\n",
      "Summary: TensorBoard lets you watch Tensors Flow\n",
      "Home-page: https://github.com/tensorflow/tensorboard\n",
      "Author: Google Inc.\n",
      "Author-email: packages@tensorflow.org\n",
      "License: Apache 2.0\n",
      "Location: c:\\users\\mazharul\\appdata\\roaming\\python\\python37\\site-packages\n",
      "Requires: absl-py, numpy, wheel, markdown, requests, protobuf, grpcio, tensorboard-plugin-wit, werkzeug, google-auth, google-auth-oauthlib, setuptools, six\n",
      "Required-by: tensorflow\n"
     ]
    }
   ],
   "source": [
    "!pip show tensorflow\n",
    "!pip show tensorboard\n"
   ]
  },
  {
   "cell_type": "code",
   "execution_count": 51,
   "metadata": {},
   "outputs": [
    {
     "name": "stdout",
     "output_type": "stream",
     "text": [
      "Requirement already satisfied: tensorflow==2.2.0 in c:\\users\\mazharul\\appdata\\roaming\\python\\python37\\site-packages (2.2.0)\n",
      "Requirement already satisfied: opt-einsum>=2.3.2 in c:\\programdata\\anaconda3\\lib\\site-packages (from tensorflow==2.2.0) (3.3.0)\n",
      "Requirement already satisfied: absl-py>=0.7.0 in c:\\programdata\\anaconda3\\lib\\site-packages (from tensorflow==2.2.0) (0.9.0)\n",
      "Requirement already satisfied: protobuf>=3.8.0 in c:\\users\\mazharul\\appdata\\roaming\\python\\python37\\site-packages (from tensorflow==2.2.0) (3.12.2)\n",
      "Requirement already satisfied: six>=1.12.0 in c:\\users\\mazharul\\appdata\\roaming\\python\\python37\\site-packages (from tensorflow==2.2.0) (1.15.0)\n",
      "Requirement already satisfied: grpcio>=1.8.6 in c:\\users\\mazharul\\appdata\\roaming\\python\\python37\\site-packages (from tensorflow==2.2.0) (1.29.0)\n",
      "Requirement already satisfied: astunparse==1.6.3 in c:\\programdata\\anaconda3\\lib\\site-packages (from tensorflow==2.2.0) (1.6.3)\n",
      "Requirement already satisfied: wheel>=0.26; python_version >= \"3\" in c:\\users\\mazharul\\appdata\\roaming\\python\\python37\\site-packages (from tensorflow==2.2.0) (0.30.0)\n",
      "Requirement already satisfied: scipy==1.4.1; python_version >= \"3\" in c:\\users\\mazharul\\appdata\\roaming\\python\\python37\\site-packages (from tensorflow==2.2.0) (1.4.1)\n",
      "Requirement already satisfied: keras-preprocessing>=1.1.0 in c:\\programdata\\anaconda3\\lib\\site-packages (from tensorflow==2.2.0) (1.1.2)\n",
      "Requirement already satisfied: google-pasta>=0.1.8 in c:\\programdata\\anaconda3\\lib\\site-packages (from tensorflow==2.2.0) (0.2.0)\n",
      "Requirement already satisfied: termcolor>=1.1.0 in c:\\programdata\\anaconda3\\lib\\site-packages (from tensorflow==2.2.0) (1.1.0)\n",
      "Requirement already satisfied: h5py<2.11.0,>=2.10.0 in c:\\programdata\\anaconda3\\lib\\site-packages (from tensorflow==2.2.0) (2.10.0)\n",
      "Requirement already satisfied: gast==0.3.3 in c:\\programdata\\anaconda3\\lib\\site-packages (from tensorflow==2.2.0) (0.3.3)\n",
      "Requirement already satisfied: numpy<2.0,>=1.16.0 in c:\\users\\mazharul\\appdata\\roaming\\python\\python37\\site-packages (from tensorflow==2.2.0) (1.18.5)\n",
      "Requirement already satisfied: tensorboard<2.3.0,>=2.2.0 in c:\\users\\mazharul\\appdata\\roaming\\python\\python37\\site-packages (from tensorflow==2.2.0) (2.2.2)\n",
      "Requirement already satisfied: tensorflow-estimator<2.3.0,>=2.2.0 in c:\\users\\mazharul\\appdata\\roaming\\python\\python37\\site-packages (from tensorflow==2.2.0) (2.2.0)\n",
      "Requirement already satisfied: wrapt>=1.11.1 in c:\\programdata\\anaconda3\\lib\\site-packages (from tensorflow==2.2.0) (1.11.2)\n",
      "Requirement already satisfied: setuptools in c:\\users\\mazharul\\appdata\\roaming\\python\\python37\\site-packages (from protobuf>=3.8.0->tensorflow==2.2.0) (47.1.1)\n",
      "Requirement already satisfied: requests<3,>=2.21.0 in c:\\users\\mazharul\\appdata\\roaming\\python\\python37\\site-packages (from tensorboard<2.3.0,>=2.2.0->tensorflow==2.2.0) (2.24.0)\n",
      "Requirement already satisfied: werkzeug>=0.11.15 in c:\\users\\mazharul\\appdata\\roaming\\python\\python37\\site-packages (from tensorboard<2.3.0,>=2.2.0->tensorflow==2.2.0) (1.0.1)\n",
      "Requirement already satisfied: markdown>=2.6.8 in c:\\programdata\\anaconda3\\lib\\site-packages (from tensorboard<2.3.0,>=2.2.0->tensorflow==2.2.0) (3.2.2)\n",
      "Requirement already satisfied: tensorboard-plugin-wit>=1.6.0 in c:\\users\\mazharul\\appdata\\roaming\\python\\python37\\site-packages (from tensorboard<2.3.0,>=2.2.0->tensorflow==2.2.0) (1.6.0.post3)\n",
      "Requirement already satisfied: google-auth<2,>=1.6.3 in c:\\users\\mazharul\\appdata\\roaming\\python\\python37\\site-packages (from tensorboard<2.3.0,>=2.2.0->tensorflow==2.2.0) (1.16.1)\n",
      "Requirement already satisfied: google-auth-oauthlib<0.5,>=0.4.1 in c:\\programdata\\anaconda3\\lib\\site-packages (from tensorboard<2.3.0,>=2.2.0->tensorflow==2.2.0) (0.4.1)\n",
      "Requirement already satisfied: idna<3,>=2.5 in c:\\users\\mazharul\\appdata\\roaming\\python\\python37\\site-packages (from requests<3,>=2.21.0->tensorboard<2.3.0,>=2.2.0->tensorflow==2.2.0) (2.6)\n",
      "Requirement already satisfied: chardet<4,>=3.0.2 in c:\\programdata\\anaconda3\\lib\\site-packages (from requests<3,>=2.21.0->tensorboard<2.3.0,>=2.2.0->tensorflow==2.2.0) (3.0.4)\n",
      "Requirement already satisfied: urllib3!=1.25.0,!=1.25.1,<1.26,>=1.21.1 in c:\\users\\mazharul\\appdata\\roaming\\python\\python37\\site-packages (from requests<3,>=2.21.0->tensorboard<2.3.0,>=2.2.0->tensorflow==2.2.0) (1.25.9)\n",
      "Requirement already satisfied: certifi>=2017.4.17 in c:\\users\\mazharul\\appdata\\roaming\\python\\python37\\site-packages (from requests<3,>=2.21.0->tensorboard<2.3.0,>=2.2.0->tensorflow==2.2.0) (2020.6.20)\n",
      "Requirement already satisfied: importlib-metadata; python_version < \"3.8\" in c:\\users\\mazharul\\appdata\\roaming\\python\\python37\\site-packages (from markdown>=2.6.8->tensorboard<2.3.0,>=2.2.0->tensorflow==2.2.0) (1.6.1)\n",
      "Requirement already satisfied: pyasn1-modules>=0.2.1 in c:\\programdata\\anaconda3\\lib\\site-packages (from google-auth<2,>=1.6.3->tensorboard<2.3.0,>=2.2.0->tensorflow==2.2.0) (0.2.8)\n",
      "Requirement already satisfied: cachetools<5.0,>=2.0.0 in c:\\users\\mazharul\\appdata\\roaming\\python\\python37\\site-packages (from google-auth<2,>=1.6.3->tensorboard<2.3.0,>=2.2.0->tensorflow==2.2.0) (4.1.0)\n",
      "Requirement already satisfied: rsa<4.1,>=3.1.4 in c:\\users\\mazharul\\appdata\\roaming\\python\\python37\\site-packages (from google-auth<2,>=1.6.3->tensorboard<2.3.0,>=2.2.0->tensorflow==2.2.0) (4.0)\n",
      "Requirement already satisfied: requests-oauthlib>=0.7.0 in c:\\programdata\\anaconda3\\lib\\site-packages (from google-auth-oauthlib<0.5,>=0.4.1->tensorboard<2.3.0,>=2.2.0->tensorflow==2.2.0) (1.3.0)\n",
      "Requirement already satisfied: zipp>=0.5 in c:\\users\\mazharul\\appdata\\roaming\\python\\python37\\site-packages (from importlib-metadata; python_version < \"3.8\"->markdown>=2.6.8->tensorboard<2.3.0,>=2.2.0->tensorflow==2.2.0) (3.1.0)\n",
      "Requirement already satisfied: pyasn1<0.5.0,>=0.4.6 in c:\\programdata\\anaconda3\\lib\\site-packages (from pyasn1-modules>=0.2.1->google-auth<2,>=1.6.3->tensorboard<2.3.0,>=2.2.0->tensorflow==2.2.0) (0.4.8)\n",
      "Requirement already satisfied: oauthlib>=3.0.0 in c:\\programdata\\anaconda3\\lib\\site-packages (from requests-oauthlib>=0.7.0->google-auth-oauthlib<0.5,>=0.4.1->tensorboard<2.3.0,>=2.2.0->tensorflow==2.2.0) (3.1.0)\n",
      "Requirement already satisfied: keras==2.4.0 in c:\\users\\mazharul\\appdata\\roaming\\python\\python37\\site-packages (2.4.0)\n",
      "Requirement already satisfied: h5py in c:\\programdata\\anaconda3\\lib\\site-packages (from keras==2.4.0) (2.10.0)\n",
      "Requirement already satisfied: pyyaml in c:\\programdata\\anaconda3\\lib\\site-packages (from keras==2.4.0) (5.3)\n",
      "Requirement already satisfied: tensorflow>=2.2.0 in c:\\users\\mazharul\\appdata\\roaming\\python\\python37\\site-packages (from keras==2.4.0) (2.2.0)\n",
      "Requirement already satisfied: scipy>=0.14 in c:\\users\\mazharul\\appdata\\roaming\\python\\python37\\site-packages (from keras==2.4.0) (1.4.1)\n",
      "Requirement already satisfied: numpy>=1.9.1 in c:\\users\\mazharul\\appdata\\roaming\\python\\python37\\site-packages (from keras==2.4.0) (1.18.5)\n",
      "Requirement already satisfied: six in c:\\users\\mazharul\\appdata\\roaming\\python\\python37\\site-packages (from h5py->keras==2.4.0) (1.15.0)\n",
      "Requirement already satisfied: tensorboard<2.3.0,>=2.2.0 in c:\\users\\mazharul\\appdata\\roaming\\python\\python37\\site-packages (from tensorflow>=2.2.0->keras==2.4.0) (2.2.2)\n",
      "Requirement already satisfied: grpcio>=1.8.6 in c:\\users\\mazharul\\appdata\\roaming\\python\\python37\\site-packages (from tensorflow>=2.2.0->keras==2.4.0) (1.29.0)\n",
      "Requirement already satisfied: absl-py>=0.7.0 in c:\\programdata\\anaconda3\\lib\\site-packages (from tensorflow>=2.2.0->keras==2.4.0) (0.9.0)\n",
      "Requirement already satisfied: astunparse==1.6.3 in c:\\programdata\\anaconda3\\lib\\site-packages (from tensorflow>=2.2.0->keras==2.4.0) (1.6.3)\n",
      "Requirement already satisfied: protobuf>=3.8.0 in c:\\users\\mazharul\\appdata\\roaming\\python\\python37\\site-packages (from tensorflow>=2.2.0->keras==2.4.0) (3.12.2)\n",
      "Requirement already satisfied: gast==0.3.3 in c:\\programdata\\anaconda3\\lib\\site-packages (from tensorflow>=2.2.0->keras==2.4.0) (0.3.3)\n",
      "Requirement already satisfied: termcolor>=1.1.0 in c:\\programdata\\anaconda3\\lib\\site-packages (from tensorflow>=2.2.0->keras==2.4.0) (1.1.0)\n",
      "Requirement already satisfied: wrapt>=1.11.1 in c:\\programdata\\anaconda3\\lib\\site-packages (from tensorflow>=2.2.0->keras==2.4.0) (1.11.2)\n",
      "Requirement already satisfied: tensorflow-estimator<2.3.0,>=2.2.0 in c:\\users\\mazharul\\appdata\\roaming\\python\\python37\\site-packages (from tensorflow>=2.2.0->keras==2.4.0) (2.2.0)\n",
      "Requirement already satisfied: google-pasta>=0.1.8 in c:\\programdata\\anaconda3\\lib\\site-packages (from tensorflow>=2.2.0->keras==2.4.0) (0.2.0)\n",
      "Requirement already satisfied: opt-einsum>=2.3.2 in c:\\programdata\\anaconda3\\lib\\site-packages (from tensorflow>=2.2.0->keras==2.4.0) (3.3.0)\n",
      "Requirement already satisfied: keras-preprocessing>=1.1.0 in c:\\programdata\\anaconda3\\lib\\site-packages (from tensorflow>=2.2.0->keras==2.4.0) (1.1.2)\n",
      "Requirement already satisfied: wheel>=0.26; python_version >= \"3\" in c:\\users\\mazharul\\appdata\\roaming\\python\\python37\\site-packages (from tensorflow>=2.2.0->keras==2.4.0) (0.30.0)\n",
      "Requirement already satisfied: tensorboard-plugin-wit>=1.6.0 in c:\\users\\mazharul\\appdata\\roaming\\python\\python37\\site-packages (from tensorboard<2.3.0,>=2.2.0->tensorflow>=2.2.0->keras==2.4.0) (1.6.0.post3)\n",
      "Requirement already satisfied: google-auth-oauthlib<0.5,>=0.4.1 in c:\\programdata\\anaconda3\\lib\\site-packages (from tensorboard<2.3.0,>=2.2.0->tensorflow>=2.2.0->keras==2.4.0) (0.4.1)\n",
      "Requirement already satisfied: requests<3,>=2.21.0 in c:\\users\\mazharul\\appdata\\roaming\\python\\python37\\site-packages (from tensorboard<2.3.0,>=2.2.0->tensorflow>=2.2.0->keras==2.4.0) (2.24.0)\n",
      "Requirement already satisfied: werkzeug>=0.11.15 in c:\\users\\mazharul\\appdata\\roaming\\python\\python37\\site-packages (from tensorboard<2.3.0,>=2.2.0->tensorflow>=2.2.0->keras==2.4.0) (1.0.1)\n",
      "Requirement already satisfied: google-auth<2,>=1.6.3 in c:\\users\\mazharul\\appdata\\roaming\\python\\python37\\site-packages (from tensorboard<2.3.0,>=2.2.0->tensorflow>=2.2.0->keras==2.4.0) (1.16.1)\n",
      "Requirement already satisfied: setuptools>=41.0.0 in c:\\users\\mazharul\\appdata\\roaming\\python\\python37\\site-packages (from tensorboard<2.3.0,>=2.2.0->tensorflow>=2.2.0->keras==2.4.0) (47.1.1)\n",
      "Requirement already satisfied: markdown>=2.6.8 in c:\\programdata\\anaconda3\\lib\\site-packages (from tensorboard<2.3.0,>=2.2.0->tensorflow>=2.2.0->keras==2.4.0) (3.2.2)\n",
      "Requirement already satisfied: requests-oauthlib>=0.7.0 in c:\\programdata\\anaconda3\\lib\\site-packages (from google-auth-oauthlib<0.5,>=0.4.1->tensorboard<2.3.0,>=2.2.0->tensorflow>=2.2.0->keras==2.4.0) (1.3.0)\n",
      "Requirement already satisfied: urllib3!=1.25.0,!=1.25.1,<1.26,>=1.21.1 in c:\\users\\mazharul\\appdata\\roaming\\python\\python37\\site-packages (from requests<3,>=2.21.0->tensorboard<2.3.0,>=2.2.0->tensorflow>=2.2.0->keras==2.4.0) (1.25.9)\n",
      "Requirement already satisfied: certifi>=2017.4.17 in c:\\users\\mazharul\\appdata\\roaming\\python\\python37\\site-packages (from requests<3,>=2.21.0->tensorboard<2.3.0,>=2.2.0->tensorflow>=2.2.0->keras==2.4.0) (2020.6.20)\n",
      "Requirement already satisfied: chardet<4,>=3.0.2 in c:\\programdata\\anaconda3\\lib\\site-packages (from requests<3,>=2.21.0->tensorboard<2.3.0,>=2.2.0->tensorflow>=2.2.0->keras==2.4.0) (3.0.4)\n",
      "Requirement already satisfied: idna<3,>=2.5 in c:\\users\\mazharul\\appdata\\roaming\\python\\python37\\site-packages (from requests<3,>=2.21.0->tensorboard<2.3.0,>=2.2.0->tensorflow>=2.2.0->keras==2.4.0) (2.6)\n",
      "Requirement already satisfied: cachetools<5.0,>=2.0.0 in c:\\users\\mazharul\\appdata\\roaming\\python\\python37\\site-packages (from google-auth<2,>=1.6.3->tensorboard<2.3.0,>=2.2.0->tensorflow>=2.2.0->keras==2.4.0) (4.1.0)\n",
      "Requirement already satisfied: rsa<4.1,>=3.1.4 in c:\\users\\mazharul\\appdata\\roaming\\python\\python37\\site-packages (from google-auth<2,>=1.6.3->tensorboard<2.3.0,>=2.2.0->tensorflow>=2.2.0->keras==2.4.0) (4.0)\n",
      "Requirement already satisfied: pyasn1-modules>=0.2.1 in c:\\programdata\\anaconda3\\lib\\site-packages (from google-auth<2,>=1.6.3->tensorboard<2.3.0,>=2.2.0->tensorflow>=2.2.0->keras==2.4.0) (0.2.8)\n",
      "Requirement already satisfied: importlib-metadata; python_version < \"3.8\" in c:\\users\\mazharul\\appdata\\roaming\\python\\python37\\site-packages (from markdown>=2.6.8->tensorboard<2.3.0,>=2.2.0->tensorflow>=2.2.0->keras==2.4.0) (1.6.1)\n",
      "Requirement already satisfied: oauthlib>=3.0.0 in c:\\programdata\\anaconda3\\lib\\site-packages (from requests-oauthlib>=0.7.0->google-auth-oauthlib<0.5,>=0.4.1->tensorboard<2.3.0,>=2.2.0->tensorflow>=2.2.0->keras==2.4.0) (3.1.0)\n",
      "Requirement already satisfied: pyasn1>=0.1.3 in c:\\programdata\\anaconda3\\lib\\site-packages (from rsa<4.1,>=3.1.4->google-auth<2,>=1.6.3->tensorboard<2.3.0,>=2.2.0->tensorflow>=2.2.0->keras==2.4.0) (0.4.8)\n",
      "Requirement already satisfied: zipp>=0.5 in c:\\users\\mazharul\\appdata\\roaming\\python\\python37\\site-packages (from importlib-metadata; python_version < \"3.8\"->markdown>=2.6.8->tensorboard<2.3.0,>=2.2.0->tensorflow>=2.2.0->keras==2.4.0) (3.1.0)\n"
     ]
    }
   ],
   "source": [
    "!pip install --user tensorflow==2.2.0\n",
    "!pip install --user keras==2.4.0\n"
   ]
  },
  {
   "cell_type": "code",
   "execution_count": 52,
   "metadata": {},
   "outputs": [
    {
     "ename": "ImportError",
     "evalue": "Traceback (most recent call last):\n  File \"C:\\Users\\mazharul\\AppData\\Roaming\\Python\\Python37\\site-packages\\tensorflow\\python\\pywrap_tensorflow.py\", line 58, in <module>\n    from tensorflow.python.pywrap_tensorflow_internal import *\n  File \"C:\\Users\\mazharul\\AppData\\Roaming\\Python\\Python37\\site-packages\\tensorflow\\python\\pywrap_tensorflow_internal.py\", line 28, in <module>\n    _pywrap_tensorflow_internal = swig_import_helper()\n  File \"C:\\Users\\mazharul\\AppData\\Roaming\\Python\\Python37\\site-packages\\tensorflow\\python\\pywrap_tensorflow_internal.py\", line 24, in swig_import_helper\n    _mod = imp.load_module('_pywrap_tensorflow_internal', fp, pathname, description)\n  File \"C:\\ProgramData\\Anaconda3\\lib\\imp.py\", line 242, in load_module\n    return load_dynamic(name, filename, file)\n  File \"C:\\ProgramData\\Anaconda3\\lib\\imp.py\", line 342, in load_dynamic\n    return _load(spec)\nImportError: DLL load failed: The specified module could not be found.\n\n\nFailed to load the native TensorFlow runtime.\n\nSee https://www.tensorflow.org/install/errors\n\nfor some common reasons and solutions.  Include the entire stack trace\nabove this error message when asking for help.",
     "output_type": "error",
     "traceback": [
      "\u001b[1;31m---------------------------------------------------------------------------\u001b[0m",
      "\u001b[1;31mImportError\u001b[0m                               Traceback (most recent call last)",
      "\u001b[1;32m~\\AppData\\Roaming\\Python\\Python37\\site-packages\\tensorflow\\python\\pywrap_tensorflow.py\u001b[0m in \u001b[0;36m<module>\u001b[1;34m\u001b[0m\n\u001b[0;32m     57\u001b[0m \u001b[1;33m\u001b[0m\u001b[0m\n\u001b[1;32m---> 58\u001b[1;33m   \u001b[1;32mfrom\u001b[0m \u001b[0mtensorflow\u001b[0m\u001b[1;33m.\u001b[0m\u001b[0mpython\u001b[0m\u001b[1;33m.\u001b[0m\u001b[0mpywrap_tensorflow_internal\u001b[0m \u001b[1;32mimport\u001b[0m \u001b[1;33m*\u001b[0m\u001b[1;33m\u001b[0m\u001b[1;33m\u001b[0m\u001b[0m\n\u001b[0m\u001b[0;32m     59\u001b[0m \u001b[1;33m\u001b[0m\u001b[0m\n",
      "\u001b[1;32m~\\AppData\\Roaming\\Python\\Python37\\site-packages\\tensorflow\\python\\pywrap_tensorflow_internal.py\u001b[0m in \u001b[0;36m<module>\u001b[1;34m\u001b[0m\n\u001b[0;32m     27\u001b[0m             \u001b[1;32mreturn\u001b[0m \u001b[0m_mod\u001b[0m\u001b[1;33m\u001b[0m\u001b[1;33m\u001b[0m\u001b[0m\n\u001b[1;32m---> 28\u001b[1;33m     \u001b[0m_pywrap_tensorflow_internal\u001b[0m \u001b[1;33m=\u001b[0m \u001b[0mswig_import_helper\u001b[0m\u001b[1;33m(\u001b[0m\u001b[1;33m)\u001b[0m\u001b[1;33m\u001b[0m\u001b[1;33m\u001b[0m\u001b[0m\n\u001b[0m\u001b[0;32m     29\u001b[0m     \u001b[1;32mdel\u001b[0m \u001b[0mswig_import_helper\u001b[0m\u001b[1;33m\u001b[0m\u001b[1;33m\u001b[0m\u001b[0m\n",
      "\u001b[1;32m~\\AppData\\Roaming\\Python\\Python37\\site-packages\\tensorflow\\python\\pywrap_tensorflow_internal.py\u001b[0m in \u001b[0;36mswig_import_helper\u001b[1;34m()\u001b[0m\n\u001b[0;32m     23\u001b[0m             \u001b[1;32mtry\u001b[0m\u001b[1;33m:\u001b[0m\u001b[1;33m\u001b[0m\u001b[1;33m\u001b[0m\u001b[0m\n\u001b[1;32m---> 24\u001b[1;33m                 \u001b[0m_mod\u001b[0m \u001b[1;33m=\u001b[0m \u001b[0mimp\u001b[0m\u001b[1;33m.\u001b[0m\u001b[0mload_module\u001b[0m\u001b[1;33m(\u001b[0m\u001b[1;34m'_pywrap_tensorflow_internal'\u001b[0m\u001b[1;33m,\u001b[0m \u001b[0mfp\u001b[0m\u001b[1;33m,\u001b[0m \u001b[0mpathname\u001b[0m\u001b[1;33m,\u001b[0m \u001b[0mdescription\u001b[0m\u001b[1;33m)\u001b[0m\u001b[1;33m\u001b[0m\u001b[1;33m\u001b[0m\u001b[0m\n\u001b[0m\u001b[0;32m     25\u001b[0m             \u001b[1;32mfinally\u001b[0m\u001b[1;33m:\u001b[0m\u001b[1;33m\u001b[0m\u001b[1;33m\u001b[0m\u001b[0m\n",
      "\u001b[1;32mC:\\ProgramData\\Anaconda3\\lib\\imp.py\u001b[0m in \u001b[0;36mload_module\u001b[1;34m(name, file, filename, details)\u001b[0m\n\u001b[0;32m    241\u001b[0m         \u001b[1;32melse\u001b[0m\u001b[1;33m:\u001b[0m\u001b[1;33m\u001b[0m\u001b[1;33m\u001b[0m\u001b[0m\n\u001b[1;32m--> 242\u001b[1;33m             \u001b[1;32mreturn\u001b[0m \u001b[0mload_dynamic\u001b[0m\u001b[1;33m(\u001b[0m\u001b[0mname\u001b[0m\u001b[1;33m,\u001b[0m \u001b[0mfilename\u001b[0m\u001b[1;33m,\u001b[0m \u001b[0mfile\u001b[0m\u001b[1;33m)\u001b[0m\u001b[1;33m\u001b[0m\u001b[1;33m\u001b[0m\u001b[0m\n\u001b[0m\u001b[0;32m    243\u001b[0m     \u001b[1;32melif\u001b[0m \u001b[0mtype_\u001b[0m \u001b[1;33m==\u001b[0m \u001b[0mPKG_DIRECTORY\u001b[0m\u001b[1;33m:\u001b[0m\u001b[1;33m\u001b[0m\u001b[1;33m\u001b[0m\u001b[0m\n",
      "\u001b[1;32mC:\\ProgramData\\Anaconda3\\lib\\imp.py\u001b[0m in \u001b[0;36mload_dynamic\u001b[1;34m(name, path, file)\u001b[0m\n\u001b[0;32m    341\u001b[0m             name=name, loader=loader, origin=path)\n\u001b[1;32m--> 342\u001b[1;33m         \u001b[1;32mreturn\u001b[0m \u001b[0m_load\u001b[0m\u001b[1;33m(\u001b[0m\u001b[0mspec\u001b[0m\u001b[1;33m)\u001b[0m\u001b[1;33m\u001b[0m\u001b[1;33m\u001b[0m\u001b[0m\n\u001b[0m\u001b[0;32m    343\u001b[0m \u001b[1;33m\u001b[0m\u001b[0m\n",
      "\u001b[1;31mImportError\u001b[0m: DLL load failed: The specified module could not be found.",
      "\nDuring handling of the above exception, another exception occurred:\n",
      "\u001b[1;31mImportError\u001b[0m                               Traceback (most recent call last)",
      "\u001b[1;32m<ipython-input-52-64156d691fe5>\u001b[0m in \u001b[0;36m<module>\u001b[1;34m\u001b[0m\n\u001b[1;32m----> 1\u001b[1;33m \u001b[1;32mimport\u001b[0m \u001b[0mtensorflow\u001b[0m \u001b[1;32mas\u001b[0m \u001b[0mtf\u001b[0m\u001b[1;33m\u001b[0m\u001b[1;33m\u001b[0m\u001b[0m\n\u001b[0m",
      "\u001b[1;32m~\\AppData\\Roaming\\Python\\Python37\\site-packages\\tensorflow\\__init__.py\u001b[0m in \u001b[0;36m<module>\u001b[1;34m\u001b[0m\n\u001b[0;32m     39\u001b[0m \u001b[1;32mimport\u001b[0m \u001b[0msys\u001b[0m \u001b[1;32mas\u001b[0m \u001b[0m_sys\u001b[0m\u001b[1;33m\u001b[0m\u001b[1;33m\u001b[0m\u001b[0m\n\u001b[0;32m     40\u001b[0m \u001b[1;33m\u001b[0m\u001b[0m\n\u001b[1;32m---> 41\u001b[1;33m \u001b[1;32mfrom\u001b[0m \u001b[0mtensorflow\u001b[0m\u001b[1;33m.\u001b[0m\u001b[0mpython\u001b[0m\u001b[1;33m.\u001b[0m\u001b[0mtools\u001b[0m \u001b[1;32mimport\u001b[0m \u001b[0mmodule_util\u001b[0m \u001b[1;32mas\u001b[0m \u001b[0m_module_util\u001b[0m\u001b[1;33m\u001b[0m\u001b[1;33m\u001b[0m\u001b[0m\n\u001b[0m\u001b[0;32m     42\u001b[0m \u001b[1;32mfrom\u001b[0m \u001b[0mtensorflow\u001b[0m\u001b[1;33m.\u001b[0m\u001b[0mpython\u001b[0m\u001b[1;33m.\u001b[0m\u001b[0mutil\u001b[0m\u001b[1;33m.\u001b[0m\u001b[0mlazy_loader\u001b[0m \u001b[1;32mimport\u001b[0m \u001b[0mLazyLoader\u001b[0m \u001b[1;32mas\u001b[0m \u001b[0m_LazyLoader\u001b[0m\u001b[1;33m\u001b[0m\u001b[1;33m\u001b[0m\u001b[0m\n\u001b[0;32m     43\u001b[0m \u001b[1;33m\u001b[0m\u001b[0m\n",
      "\u001b[1;32m~\\AppData\\Roaming\\Python\\Python37\\site-packages\\tensorflow\\python\\__init__.py\u001b[0m in \u001b[0;36m<module>\u001b[1;34m\u001b[0m\n\u001b[0;32m     48\u001b[0m \u001b[1;32mimport\u001b[0m \u001b[0mnumpy\u001b[0m \u001b[1;32mas\u001b[0m \u001b[0mnp\u001b[0m\u001b[1;33m\u001b[0m\u001b[1;33m\u001b[0m\u001b[0m\n\u001b[0;32m     49\u001b[0m \u001b[1;33m\u001b[0m\u001b[0m\n\u001b[1;32m---> 50\u001b[1;33m \u001b[1;32mfrom\u001b[0m \u001b[0mtensorflow\u001b[0m\u001b[1;33m.\u001b[0m\u001b[0mpython\u001b[0m \u001b[1;32mimport\u001b[0m \u001b[0mpywrap_tensorflow\u001b[0m\u001b[1;33m\u001b[0m\u001b[1;33m\u001b[0m\u001b[0m\n\u001b[0m\u001b[0;32m     51\u001b[0m \u001b[1;33m\u001b[0m\u001b[0m\n\u001b[0;32m     52\u001b[0m \u001b[1;31m# Protocol buffers\u001b[0m\u001b[1;33m\u001b[0m\u001b[1;33m\u001b[0m\u001b[1;33m\u001b[0m\u001b[0m\n",
      "\u001b[1;32m~\\AppData\\Roaming\\Python\\Python37\\site-packages\\tensorflow\\python\\pywrap_tensorflow.py\u001b[0m in \u001b[0;36m<module>\u001b[1;34m\u001b[0m\n\u001b[0;32m     67\u001b[0m \u001b[1;32mfor\u001b[0m \u001b[0msome\u001b[0m \u001b[0mcommon\u001b[0m \u001b[0mreasons\u001b[0m \u001b[1;32mand\u001b[0m \u001b[0msolutions\u001b[0m\u001b[1;33m.\u001b[0m  \u001b[0mInclude\u001b[0m \u001b[0mthe\u001b[0m \u001b[0mentire\u001b[0m \u001b[0mstack\u001b[0m \u001b[0mtrace\u001b[0m\u001b[1;33m\u001b[0m\u001b[1;33m\u001b[0m\u001b[0m\n\u001b[0;32m     68\u001b[0m above this error message when asking for help.\"\"\" % traceback.format_exc()\n\u001b[1;32m---> 69\u001b[1;33m   \u001b[1;32mraise\u001b[0m \u001b[0mImportError\u001b[0m\u001b[1;33m(\u001b[0m\u001b[0mmsg\u001b[0m\u001b[1;33m)\u001b[0m\u001b[1;33m\u001b[0m\u001b[1;33m\u001b[0m\u001b[0m\n\u001b[0m\u001b[0;32m     70\u001b[0m \u001b[1;33m\u001b[0m\u001b[0m\n\u001b[0;32m     71\u001b[0m \u001b[1;31m# pylint: enable=wildcard-import,g-import-not-at-top,unused-import,line-too-long\u001b[0m\u001b[1;33m\u001b[0m\u001b[1;33m\u001b[0m\u001b[1;33m\u001b[0m\u001b[0m\n",
      "\u001b[1;31mImportError\u001b[0m: Traceback (most recent call last):\n  File \"C:\\Users\\mazharul\\AppData\\Roaming\\Python\\Python37\\site-packages\\tensorflow\\python\\pywrap_tensorflow.py\", line 58, in <module>\n    from tensorflow.python.pywrap_tensorflow_internal import *\n  File \"C:\\Users\\mazharul\\AppData\\Roaming\\Python\\Python37\\site-packages\\tensorflow\\python\\pywrap_tensorflow_internal.py\", line 28, in <module>\n    _pywrap_tensorflow_internal = swig_import_helper()\n  File \"C:\\Users\\mazharul\\AppData\\Roaming\\Python\\Python37\\site-packages\\tensorflow\\python\\pywrap_tensorflow_internal.py\", line 24, in swig_import_helper\n    _mod = imp.load_module('_pywrap_tensorflow_internal', fp, pathname, description)\n  File \"C:\\ProgramData\\Anaconda3\\lib\\imp.py\", line 242, in load_module\n    return load_dynamic(name, filename, file)\n  File \"C:\\ProgramData\\Anaconda3\\lib\\imp.py\", line 342, in load_dynamic\n    return _load(spec)\nImportError: DLL load failed: The specified module could not be found.\n\n\nFailed to load the native TensorFlow runtime.\n\nSee https://www.tensorflow.org/install/errors\n\nfor some common reasons and solutions.  Include the entire stack trace\nabove this error message when asking for help."
     ]
    }
   ],
   "source": [
    "import tensorflow as tf"
   ]
  }
 ],
 "metadata": {
  "kernelspec": {
   "display_name": "Python 3",
   "language": "python",
   "name": "python3"
  },
  "language_info": {
   "codemirror_mode": {
    "name": "ipython",
    "version": 3
   },
   "file_extension": ".py",
   "mimetype": "text/x-python",
   "name": "python",
   "nbconvert_exporter": "python",
   "pygments_lexer": "ipython3",
   "version": "3.7.6"
  }
 },
 "nbformat": 4,
 "nbformat_minor": 4
}
